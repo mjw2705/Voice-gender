{
 "cells": [
  {
   "cell_type": "code",
   "execution_count": 1,
   "metadata": {
    "collapsed": true
   },
   "outputs": [],
   "source": [
    "import os\n",
    "import pandas as pd\n",
    "import shutil\n",
    "\n",
    "man_path = './data_db/man'\n",
    "woman_path = './data_db/woman'"
   ]
  },
  {
   "cell_type": "markdown",
   "source": [
    "한국어 DB_1번\n"
   ],
   "metadata": {
    "collapsed": false
   }
  },
  {
   "cell_type": "code",
   "execution_count": null,
   "outputs": [],
   "source": [
    "db_path = 'E:/DB/음성_감성인식DB/국내방송영화추출_DB/추출'\n",
    "wav_path = 'wav/nomalization'\n",
    "audio_path = os.path.join(db_path, wav_path)\n",
    "\n",
    "labels = pd.read_excel(os.path.join(db_path, '추출된 데이터베이스 정보.xlsx'), sheet_name=[0, 1, 2, 3, 4, 5])\n"
   ],
   "metadata": {
    "collapsed": false,
    "pycharm": {
     "name": "#%%\n"
    }
   }
  },
  {
   "cell_type": "code",
   "execution_count": 79,
   "outputs": [],
   "source": [
    "for idx, audio in enumerate(os.listdir(audio_path)):\n",
    "    path = os.path.join(audio_path, audio)\n",
    "    files = os.listdir(path)\n",
    "    emotion = labels[idx].set_index('Number')\n",
    "\n",
    "    for file in files:\n",
    "        file_name = int(os.path.splitext(file)[0])\n",
    "        if emotion.loc[file_name]['성별'] == '남':\n",
    "            shutil.copy(os.path.join(path, file), os.path.join(man_path, f'{audio}_{file}'))\n",
    "        else:\n",
    "            shutil.copy(os.path.join(path, file), os.path.join(woman_path, f'{audio}_{file}'))\n"
   ],
   "metadata": {
    "collapsed": false,
    "pycharm": {
     "name": "#%%\n"
    }
   }
  },
  {
   "cell_type": "code",
   "execution_count": 80,
   "outputs": [
    {
     "name": "stdout",
     "output_type": "stream",
     "text": [
      "여    60\n",
      "남    40\n",
      "Name: 성별, dtype: int64\n",
      "여    35\n",
      "남    32\n",
      "Name: 성별, dtype: int64\n",
      "여    50\n",
      "남    50\n",
      "Name: 성별, dtype: int64\n",
      "여    59\n",
      "남    41\n",
      "Name: 성별, dtype: int64\n",
      "남    53\n",
      "여    47\n",
      "Name: 성별, dtype: int64\n",
      "여    61\n",
      "남    39\n",
      "Name: 성별, dtype: int64\n"
     ]
    }
   ],
   "source": [
    "angry_gen = labels[0]['성별']\n",
    "excited_gen = labels[1]['성별']\n",
    "fear_gen = labels[2]['성별']\n",
    "happy_gen = labels[3]['성별']\n",
    "neutral_gen = labels[4]['성별']\n",
    "sad_gen = labels[5]['성별']\n",
    "\n",
    "print(angry_gen.value_counts())\n",
    "print(excited_gen.value_counts())\n",
    "print(fear_gen.value_counts())\n",
    "print(happy_gen.value_counts())\n",
    "print(neutral_gen.value_counts())\n",
    "print(sad_gen.value_counts())\n",
    "\n"
   ],
   "metadata": {
    "collapsed": false,
    "pycharm": {
     "name": "#%%\n"
    }
   }
  },
  {
   "cell_type": "markdown",
   "source": [
    "한국어 DB_2번"
   ],
   "metadata": {
    "collapsed": false
   }
  },
  {
   "cell_type": "code",
   "execution_count": 8,
   "outputs": [
    {
     "name": "stdout",
     "output_type": "stream",
     "text": [
      "['김건회', '김동국', '노재신', '대사.xlsx', '송현수', '이지윤', '이혜리']\n",
      "360 360\n"
     ]
    }
   ],
   "source": [
    "db_path_2 = 'E:/DB/음성_감성인식DB/연기자섭외자체구축_DB(학습용으로만사용)'\n",
    "names = os.listdir(db_path_2)\n",
    "print(names)\n",
    "\n",
    "man = 0\n",
    "woman = 0\n",
    "for name in names:\n",
    "    path = os.path.join(db_path_2, name)\n",
    "    if os.path.isdir(path):\n",
    "        for emotion in os.listdir(path):\n",
    "            each = os.path.join(path, emotion)\n",
    "            files = os.listdir(each)\n",
    "            for file in files:\n",
    "                if name in ['김건회', '김동국', '노재신']:\n",
    "                    man += 1\n",
    "                    shutil.copy(os.path.join(each, file), os.path.join(man_path, f'{name}_{emotion}_{file}'))\n",
    "                else:\n",
    "                    woman += 1\n",
    "                    shutil.copy(os.path.join(each, file), os.path.join(woman_path, f'{name}_{emotion}_{file}'))\n",
    "print(man, woman)"
   ],
   "metadata": {
    "collapsed": false,
    "pycharm": {
     "name": "#%%\n"
    }
   }
  },
  {
   "cell_type": "markdown",
   "source": [
    "영어 DB_1번\n",
    "\n",
    "60 trials per actor x 24 actors = 1440 (남/여 반반)"
   ],
   "metadata": {
    "collapsed": false,
    "pycharm": {
     "name": "#%% md\n"
    }
   }
  },
  {
   "cell_type": "code",
   "execution_count": 23,
   "outputs": [
    {
     "name": "stdout",
     "output_type": "stream",
     "text": [
      "done\n"
     ]
    }
   ],
   "source": [
    "db_path_3 = 'E:/DB/음성_감성인식DB/RAVDESS_Audio'\n",
    "actors = os.listdir(db_path_3)\n",
    "\n",
    "for actor in actors:\n",
    "    path = os.path.join(db_path_3, actor)\n",
    "    if os.path.isdir(path):\n",
    "        act_num = actor.split('_')[-1]\n",
    "        for file in os.listdir(path):\n",
    "            if int(act_num) % 2 == 0:\n",
    "                shutil.copy(os.path.join(path, file), os.path.join(woman_path, f'{actor}_{file}'))\n",
    "            else:\n",
    "                shutil.copy(os.path.join(path, file), os.path.join(man_path, f'{actor}_{file}'))\n",
    "\n",
    "print('done')"
   ],
   "metadata": {
    "collapsed": false,
    "pycharm": {
     "name": "#%%\n"
    }
   }
  },
  {
   "cell_type": "markdown",
   "source": [
    "| . | 남 | 여 | total\n",
    "|---|:---:|---:|---:|\n",
    "eng| 720 | 720 | 1440\n",
    "kor| 615 | 672 | 1287\n",
    "total| 1,335 | 1,392 |2,727"
   ],
   "metadata": {
    "collapsed": false,
    "pycharm": {
     "name": "#%% md\n"
    }
   }
  },
  {
   "cell_type": "code",
   "execution_count": null,
   "outputs": [],
   "source": [],
   "metadata": {
    "collapsed": false,
    "pycharm": {
     "name": "#%%\n"
    }
   }
  }
 ],
 "metadata": {
  "kernelspec": {
   "display_name": "Python 3",
   "language": "python",
   "name": "python3"
  },
  "language_info": {
   "codemirror_mode": {
    "name": "ipython",
    "version": 2
   },
   "file_extension": ".py",
   "mimetype": "text/x-python",
   "name": "python",
   "nbconvert_exporter": "python",
   "pygments_lexer": "ipython2",
   "version": "2.7.6"
  }
 },
 "nbformat": 4,
 "nbformat_minor": 0
}